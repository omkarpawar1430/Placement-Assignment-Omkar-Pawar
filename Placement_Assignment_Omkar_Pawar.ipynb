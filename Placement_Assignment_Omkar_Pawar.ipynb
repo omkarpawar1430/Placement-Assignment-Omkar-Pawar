{
 "cells": [
  {
   "attachments": {},
   "cell_type": "markdown",
   "metadata": {},
   "source": [
    "### Python | Que 1 : "
   ]
  },
  {
   "cell_type": "code",
   "execution_count": 25,
   "metadata": {},
   "outputs": [
    {
     "name": "stdout",
     "output_type": "stream",
     "text": [
      "{'write': 3, 'all': 1, 'the': 1, 'number': 1, 'from': 3, '1': 1, 'to': 1, '100': 8}\n"
     ]
    },
    {
     "data": {
      "text/plain": [
       "3"
      ]
     },
     "execution_count": 25,
     "metadata": {},
     "output_type": "execute_result"
    }
   ],
   "source": [
    "my_string = 'write write write all the number from from from 1 to 100'\n",
    "\n",
    "def frequent_word(string):\n",
    "    \"\"\" Returns most frequently occurring word from a string.\"\"\"\n",
    "\n",
    "    list_of_substrings = string.split()\n",
    "    checked_words = {}\n",
    "    most_frequent_occur = 0\n",
    "\n",
    "    for i in list_of_substrings:\n",
    "        if i in checked_words:\n",
    "            continue\n",
    "        else:\n",
    "            occur = list_of_substrings.count(i)\n",
    "            checked_words[i]= occur\n",
    "    most_frequent_occur = max(checked_words.values())\n",
    "   \n",
    "    print(checked_words)\n",
    "    list_most_frequent_occurred_words = []\n",
    "    for k, v in checked_words.items():\n",
    "        if v == most_frequent_occur:\n",
    "            list_most_frequent_occurred_words.append(k)\n",
    "    \n",
    "    max_len = 0\n",
    "    for i in list_most_frequent_occurred_words:\n",
    "        if len(i) > max_len:\n",
    "            max_len = len(i)\n",
    "    return(max_len)\n",
    "frequent_word(my_string)\n"
   ]
  },
  {
   "cell_type": "code",
   "execution_count": 23,
   "metadata": {},
   "outputs": [
    {
     "name": "stdout",
     "output_type": "stream",
     "text": [
      "{'I': 1, 'am': 1, 'not': 2, 'able': 1, 'to': 1, 'read': 1, 'it': 1}\n"
     ]
    },
    {
     "data": {
      "text/plain": [
       "3"
      ]
     },
     "execution_count": 23,
     "metadata": {},
     "output_type": "execute_result"
    }
   ],
   "source": [
    "# other test cases:\n",
    "frequent_word(\"I am not not able to read it\")"
   ]
  },
  {
   "cell_type": "code",
   "execution_count": 24,
   "metadata": {},
   "outputs": [
    {
     "name": "stdout",
     "output_type": "stream",
     "text": [
      "{'I': 3, 'will': 1, 'read': 1, 'it': 1, 'tomorrow': 1}\n"
     ]
    },
    {
     "data": {
      "text/plain": [
       "1"
      ]
     },
     "execution_count": 24,
     "metadata": {},
     "output_type": "execute_result"
    }
   ],
   "source": [
    "frequent_word(\"I I I will read it tomorrow\")"
   ]
  },
  {
   "attachments": {},
   "cell_type": "markdown",
   "metadata": {},
   "source": [
    "### Python | Que 2 : "
   ]
  },
  {
   "cell_type": "code",
   "execution_count": 16,
   "metadata": {},
   "outputs": [
    {
     "name": "stdout",
     "output_type": "stream",
     "text": [
      "{'a': 2, 'b': 2, 'c': 2}\n"
     ]
    },
    {
     "data": {
      "text/plain": [
       "'YES'"
      ]
     },
     "execution_count": 16,
     "metadata": {},
     "output_type": "execute_result"
    }
   ],
   "source": [
    "my_string = \"aabbcc\" \n",
    "\n",
    "\n",
    "def string_checker(string):\n",
    "    \"\"\"returns a YES if if all characters of the string appear the same number of times\"\"\"\n",
    "\n",
    "    list_of_strings = []\n",
    "    checked_words = {}\n",
    "\n",
    "    for i in string:\n",
    "        list_of_strings.append(i)\n",
    "    for i in list_of_strings:\n",
    "        if i in checked_words:\n",
    "            continue\n",
    "        else:\n",
    "            occur = list_of_strings.count(i)\n",
    "            checked_words[i]= occur\n",
    "    print(checked_words) \n",
    "\n",
    "\n",
    "    for v in checked_words.values():\n",
    "        for v1 in checked_words.values():\n",
    "            if v == v1:\n",
    "                continue\n",
    "            else:\n",
    "                return \"NO\"\n",
    "    return \"YES\"\n",
    "\n",
    "\n",
    "string_checker(my_string)"
   ]
  },
  {
   "cell_type": "code",
   "execution_count": 17,
   "metadata": {},
   "outputs": [
    {
     "name": "stdout",
     "output_type": "stream",
     "text": [
      "{'O': 1, 'k': 1, 'a': 1, 'y': 1}\n"
     ]
    },
    {
     "data": {
      "text/plain": [
       "'YES'"
      ]
     },
     "execution_count": 17,
     "metadata": {},
     "output_type": "execute_result"
    }
   ],
   "source": [
    "# another two test cases:\n",
    "string_checker(\"Okay\")"
   ]
  },
  {
   "cell_type": "code",
   "execution_count": 18,
   "metadata": {},
   "outputs": [
    {
     "name": "stdout",
     "output_type": "stream",
     "text": [
      "{'n': 1, 'o': 2, 'b': 1}\n"
     ]
    },
    {
     "data": {
      "text/plain": [
       "'NO'"
      ]
     },
     "execution_count": 18,
     "metadata": {},
     "output_type": "execute_result"
    }
   ],
   "source": [
    "string_checker(\"noob\")"
   ]
  },
  {
   "attachments": {},
   "cell_type": "markdown",
   "metadata": {},
   "source": [
    "### Python  | Que. 3 : "
   ]
  }
 ],
 "metadata": {
  "kernelspec": {
   "display_name": "Python 3",
   "language": "python",
   "name": "python3"
  },
  "language_info": {
   "codemirror_mode": {
    "name": "ipython",
    "version": 3
   },
   "file_extension": ".py",
   "mimetype": "text/x-python",
   "name": "python",
   "nbconvert_exporter": "python",
   "pygments_lexer": "ipython3",
   "version": "3.10.6"
  },
  "orig_nbformat": 4
 },
 "nbformat": 4,
 "nbformat_minor": 2
}
